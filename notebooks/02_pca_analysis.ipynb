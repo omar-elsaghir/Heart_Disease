{
 "cells": [
  {
   "cell_type": "code",
   "id": "initial_id",
   "metadata": {
    "collapsed": true,
    "ExecuteTime": {
     "end_time": "2025-09-14T11:40:58.058275Z",
     "start_time": "2025-09-14T11:40:57.807879Z"
    }
   },
   "source": [
    "import pandas as pd\n",
    "import numpy as np\n",
    "import matplotlib.pyplot as plt\n",
    "import seaborn as sns\n",
    "from sklearn.decomposition import PCA\n",
    "\n",
    "# Set plot style\n",
    "sns.set(style=\"whitegrid\")\n",
    "\n",
    "print(\"Libraries imported successfully!\")"
   ],
   "outputs": [
    {
     "name": "stdout",
     "output_type": "stream",
     "text": [
      "Libraries imported successfully!\n"
     ]
    }
   ],
   "execution_count": 1
  },
  {
   "metadata": {
    "ExecuteTime": {
     "end_time": "2025-09-14T11:41:12.034751Z",
     "start_time": "2025-09-14T11:41:12.005465Z"
    }
   },
   "cell_type": "code",
   "source": [
    "try:\n",
    "    X_train = pd.read_csv('../data/processed/X_train.csv')\n",
    "    print(\"Processed training data loaded successfully!\")\n",
    "    print(\"X_train shape:\", X_train.shape)\n",
    "except FileNotFoundError:\n",
    "    print(\"Error: Processed data not found. Please ensure '01_data_preprocessing.ipynb' was run successfully.\")\n",
    "\n",
    "# Display the first few rows to verify\n",
    "X_train.head()"
   ],
   "id": "a4a840030690ae5c",
   "outputs": [
    {
     "name": "stdout",
     "output_type": "stream",
     "text": [
      "Processed training data loaded successfully!\n",
      "X_train shape: (736, 22)\n"
     ]
    },
    {
     "data": {
      "text/plain": [
       "    id       age  trestbps      chol    thalch   oldpeak   ca  sex_Male  \\\n",
       "0  641 -0.063147  1.560270 -1.857816 -0.627205 -0.807883  0.0      True   \n",
       "1  744  2.180526 -0.116411 -1.857816  0.087627 -0.335827  0.0      True   \n",
       "2  891 -0.063147 -0.451747  0.382627 -0.627205  1.080341  0.0      True   \n",
       "3  271  0.791586  0.442483  0.050710  0.008202  0.985930  1.0      True   \n",
       "4  655  0.257378  1.280823 -1.857816 -1.540602 -0.807883  0.0      True   \n",
       "\n",
       "   dataset_Hungary  dataset_Switzerland  ...  cp_non-anginal  \\\n",
       "0            False                 True  ...            True   \n",
       "1            False                False  ...            True   \n",
       "2            False                False  ...           False   \n",
       "3            False                False  ...           False   \n",
       "4            False                 True  ...            True   \n",
       "\n",
       "   cp_typical angina  fbs_True  restecg_normal  restecg_st-t abnormality  \\\n",
       "0              False     False           False                     False   \n",
       "1              False     False            True                     False   \n",
       "2              False     False            True                     False   \n",
       "3              False     False           False                     False   \n",
       "4              False     False           False                      True   \n",
       "\n",
       "   exang_True  slope_flat  slope_upsloping  thal_normal  \\\n",
       "0        True       False            False        False   \n",
       "1       False       False            False        False   \n",
       "2        True        True            False        False   \n",
       "3        True       False             True        False   \n",
       "4       False        True            False         True   \n",
       "\n",
       "   thal_reversable defect  \n",
       "0                    True  \n",
       "1                   False  \n",
       "2                    True  \n",
       "3                    True  \n",
       "4                   False  \n",
       "\n",
       "[5 rows x 22 columns]"
      ],
      "text/html": [
       "<div>\n",
       "<style scoped>\n",
       "    .dataframe tbody tr th:only-of-type {\n",
       "        vertical-align: middle;\n",
       "    }\n",
       "\n",
       "    .dataframe tbody tr th {\n",
       "        vertical-align: top;\n",
       "    }\n",
       "\n",
       "    .dataframe thead th {\n",
       "        text-align: right;\n",
       "    }\n",
       "</style>\n",
       "<table border=\"1\" class=\"dataframe\">\n",
       "  <thead>\n",
       "    <tr style=\"text-align: right;\">\n",
       "      <th></th>\n",
       "      <th>id</th>\n",
       "      <th>age</th>\n",
       "      <th>trestbps</th>\n",
       "      <th>chol</th>\n",
       "      <th>thalch</th>\n",
       "      <th>oldpeak</th>\n",
       "      <th>ca</th>\n",
       "      <th>sex_Male</th>\n",
       "      <th>dataset_Hungary</th>\n",
       "      <th>dataset_Switzerland</th>\n",
       "      <th>...</th>\n",
       "      <th>cp_non-anginal</th>\n",
       "      <th>cp_typical angina</th>\n",
       "      <th>fbs_True</th>\n",
       "      <th>restecg_normal</th>\n",
       "      <th>restecg_st-t abnormality</th>\n",
       "      <th>exang_True</th>\n",
       "      <th>slope_flat</th>\n",
       "      <th>slope_upsloping</th>\n",
       "      <th>thal_normal</th>\n",
       "      <th>thal_reversable defect</th>\n",
       "    </tr>\n",
       "  </thead>\n",
       "  <tbody>\n",
       "    <tr>\n",
       "      <th>0</th>\n",
       "      <td>641</td>\n",
       "      <td>-0.063147</td>\n",
       "      <td>1.560270</td>\n",
       "      <td>-1.857816</td>\n",
       "      <td>-0.627205</td>\n",
       "      <td>-0.807883</td>\n",
       "      <td>0.0</td>\n",
       "      <td>True</td>\n",
       "      <td>False</td>\n",
       "      <td>True</td>\n",
       "      <td>...</td>\n",
       "      <td>True</td>\n",
       "      <td>False</td>\n",
       "      <td>False</td>\n",
       "      <td>False</td>\n",
       "      <td>False</td>\n",
       "      <td>True</td>\n",
       "      <td>False</td>\n",
       "      <td>False</td>\n",
       "      <td>False</td>\n",
       "      <td>True</td>\n",
       "    </tr>\n",
       "    <tr>\n",
       "      <th>1</th>\n",
       "      <td>744</td>\n",
       "      <td>2.180526</td>\n",
       "      <td>-0.116411</td>\n",
       "      <td>-1.857816</td>\n",
       "      <td>0.087627</td>\n",
       "      <td>-0.335827</td>\n",
       "      <td>0.0</td>\n",
       "      <td>True</td>\n",
       "      <td>False</td>\n",
       "      <td>False</td>\n",
       "      <td>...</td>\n",
       "      <td>True</td>\n",
       "      <td>False</td>\n",
       "      <td>False</td>\n",
       "      <td>True</td>\n",
       "      <td>False</td>\n",
       "      <td>False</td>\n",
       "      <td>False</td>\n",
       "      <td>False</td>\n",
       "      <td>False</td>\n",
       "      <td>False</td>\n",
       "    </tr>\n",
       "    <tr>\n",
       "      <th>2</th>\n",
       "      <td>891</td>\n",
       "      <td>-0.063147</td>\n",
       "      <td>-0.451747</td>\n",
       "      <td>0.382627</td>\n",
       "      <td>-0.627205</td>\n",
       "      <td>1.080341</td>\n",
       "      <td>0.0</td>\n",
       "      <td>True</td>\n",
       "      <td>False</td>\n",
       "      <td>False</td>\n",
       "      <td>...</td>\n",
       "      <td>False</td>\n",
       "      <td>False</td>\n",
       "      <td>False</td>\n",
       "      <td>True</td>\n",
       "      <td>False</td>\n",
       "      <td>True</td>\n",
       "      <td>True</td>\n",
       "      <td>False</td>\n",
       "      <td>False</td>\n",
       "      <td>True</td>\n",
       "    </tr>\n",
       "    <tr>\n",
       "      <th>3</th>\n",
       "      <td>271</td>\n",
       "      <td>0.791586</td>\n",
       "      <td>0.442483</td>\n",
       "      <td>0.050710</td>\n",
       "      <td>0.008202</td>\n",
       "      <td>0.985930</td>\n",
       "      <td>1.0</td>\n",
       "      <td>True</td>\n",
       "      <td>False</td>\n",
       "      <td>False</td>\n",
       "      <td>...</td>\n",
       "      <td>False</td>\n",
       "      <td>False</td>\n",
       "      <td>False</td>\n",
       "      <td>False</td>\n",
       "      <td>False</td>\n",
       "      <td>True</td>\n",
       "      <td>False</td>\n",
       "      <td>True</td>\n",
       "      <td>False</td>\n",
       "      <td>True</td>\n",
       "    </tr>\n",
       "    <tr>\n",
       "      <th>4</th>\n",
       "      <td>655</td>\n",
       "      <td>0.257378</td>\n",
       "      <td>1.280823</td>\n",
       "      <td>-1.857816</td>\n",
       "      <td>-1.540602</td>\n",
       "      <td>-0.807883</td>\n",
       "      <td>0.0</td>\n",
       "      <td>True</td>\n",
       "      <td>False</td>\n",
       "      <td>True</td>\n",
       "      <td>...</td>\n",
       "      <td>True</td>\n",
       "      <td>False</td>\n",
       "      <td>False</td>\n",
       "      <td>False</td>\n",
       "      <td>True</td>\n",
       "      <td>False</td>\n",
       "      <td>True</td>\n",
       "      <td>False</td>\n",
       "      <td>True</td>\n",
       "      <td>False</td>\n",
       "    </tr>\n",
       "  </tbody>\n",
       "</table>\n",
       "<p>5 rows × 22 columns</p>\n",
       "</div>"
      ]
     },
     "execution_count": 2,
     "metadata": {},
     "output_type": "execute_result"
    }
   ],
   "execution_count": 2
  },
  {
   "metadata": {
    "ExecuteTime": {
     "end_time": "2025-09-14T11:41:42.614139Z",
     "start_time": "2025-09-14T11:41:42.596421Z"
    }
   },
   "cell_type": "code",
   "source": [
    "# Initialize PCA to capture all components\n",
    "pca = PCA(n_components=None)\n",
    "\n",
    "# Fit PCA on the training data\n",
    "pca.fit(X_train)\n",
    "\n",
    "# Get the percentage of variance explained by each component\n",
    "explained_variance_ratio = pca.explained_variance_ratio_\n",
    "\n",
    "print(\"PCA has been fitted successfully.\")\n",
    "print(f\"A total of {len(explained_variance_ratio)} principal components were found.\")"
   ],
   "id": "e79238c266e0ea6e",
   "outputs": [
    {
     "name": "stdout",
     "output_type": "stream",
     "text": [
      "PCA has been fitted successfully.\n",
      "A total of 22 principal components were found.\n"
     ]
    }
   ],
   "execution_count": 3
  },
  {
   "metadata": {
    "ExecuteTime": {
     "end_time": "2025-09-14T11:42:07.550280Z",
     "start_time": "2025-09-14T11:42:07.368327Z"
    }
   },
   "cell_type": "code",
   "source": [
    "# Calculate the cumulative sum of explained variance\n",
    "cumulative_variance = np.cumsum(explained_variance_ratio)\n",
    "\n",
    "# Plot the cumulative explained variance\n",
    "plt.figure(figsize=(10, 7))\n",
    "plt.plot(range(1, len(cumulative_variance) + 1), cumulative_variance, marker='o', linestyle='--')\n",
    "plt.title('Cumulative Explained Variance by PCA Components')\n",
    "plt.xlabel('Number of Components')\n",
    "plt.ylabel('Cumulative Explained Variance')\n",
    "\n",
    "# Add a horizontal line for the 95% variance threshold\n",
    "plt.axhline(y=0.95, color='r', linestyle='--', label='95% Variance Threshold')\n",
    "plt.legend(loc='best')\n",
    "plt.grid(True)\n",
    "plt.show()"
   ],
   "id": "1b992b16dfcbd93d",
   "outputs": [
    {
     "data": {
      "text/plain": [
       "<Figure size 1000x700 with 1 Axes>"
      ],
      "image/png": "[encoded data removed]"
     },
     "metadata": {},
     "output_type": "display_data"
    }
   ],
   "execution_count": 4
  },
  {
   "metadata": {
    "ExecuteTime": {
     "end_time": "2025-09-14T11:43:52.553263Z",
     "start_time": "2025-09-14T11:43:52.541564Z"
    }
   },
   "cell_type": "code",
   "source": [
    "# Based on the plot, we choose the optimal number of components.\n",
    "N_COMPONENTS = 2\n",
    "\n",
    "# Create the final PCA instance with the chosen number of components\n",
    "pca_final = PCA(n_components=N_COMPONENTS)\n",
    "\n",
    "# Fit and transform the training data\n",
    "X_train_pca = pca_final.fit_transform(X_train)\n",
    "\n",
    "# Load the test data and transform it using the SAME fitted PCA model\n",
    "try:\n",
    "    X_test = pd.read_csv('../data/processed/X_test.csv')\n",
    "    X_test_pca = pca_final.transform(X_test)\n",
    "\n",
    "    print(f\"Original training data shape: {X_train.shape}\")\n",
    "    print(f\"PCA-transformed training data shape: {X_train_pca.shape}\")\n",
    "    print(\"-\" * 40)\n",
    "    print(f\"Original testing data shape: {X_test.shape}\")\n",
    "    print(f\"PCA-transformed testing data shape: {X_test_pca.shape}\")\n",
    "\n",
    "except FileNotFoundError:\n",
    "    print(\"Error: Processed X_test.csv not found.\")"
   ],
   "id": "adbe1c10e9d9495",
   "outputs": [
    {
     "name": "stdout",
     "output_type": "stream",
     "text": [
      "Original training data shape: (736, 22)\n",
      "PCA-transformed training data shape: (736, 2)\n",
      "----------------------------------------\n",
      "Original testing data shape: (184, 22)\n",
      "PCA-transformed testing data shape: (184, 2)\n"
     ]
    }
   ],
   "execution_count": 5
  },
  {
   "metadata": {},
   "cell_type": "code",
   "outputs": [],
   "execution_count": null,
   "source": "",
   "id": "ace70c8c14f6e37e"
  }
 ],
 "metadata": {
  "kernelspec": {
   "display_name": "Python 3",
   "language": "python",
   "name": "python3"
  },
  "language_info": {
   "codemirror_mode": {
    "name": "ipython",
    "version": 2
   },
   "file_extension": ".py",
   "mimetype": "text/x-python",
   "name": "python",
   "nbconvert_exporter": "python",
   "pygments_lexer": "ipython2",
   "version": "2.7.6"
  }
 },
 "nbformat": 4,
 "nbformat_minor": 5
}
