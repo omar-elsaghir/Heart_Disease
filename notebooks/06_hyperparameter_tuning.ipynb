{
 "cells": [
  {
   "cell_type": "code",
   "id": "initial_id",
   "metadata": {
    "collapsed": true,
    "ExecuteTime": {
     "end_time": "2025-09-14T11:55:04.891928Z",
     "start_time": "2025-09-14T11:55:04.633184Z"
    }
   },
   "source": [
    "import pandas as pd\n",
    "import numpy as np\n",
    "from sklearn.ensemble import RandomForestClassifier\n",
    "from sklearn.model_selection import GridSearchCV\n",
    "from sklearn.metrics import classification_report, roc_auc_score\n",
    "\n",
    "try:\n",
    "    # Load the full, scaled training and testing data\n",
    "    X_train = pd.read_csv('../data/processed/X_train.csv')\n",
    "    X_test = pd.read_csv('../data/processed/X_test.csv')\n",
    "    y_train = pd.read_csv('../data/processed/y_train.csv').values.ravel()\n",
    "    y_test = pd.read_csv('../data/processed/y_test.csv').values.ravel()\n",
    "\n",
    "    # Drop the 'id' column if it exists\n",
    "    if 'id' in X_train.columns:\n",
    "        X_train = X_train.drop('id', axis=1)\n",
    "        X_test = X_test.drop('id', axis=1)\n",
    "\n",
    "    print(\"Data for tuning loaded successfully!\")\n",
    "    print(\"Training data shape:\", X_train.shape)\n",
    "except FileNotFoundError:\n",
    "    print(\"Error: Processed data not found.\")"
   ],
   "outputs": [
    {
     "name": "stdout",
     "output_type": "stream",
     "text": [
      "Data for tuning loaded successfully!\n",
      "Training data shape: (736, 21)\n"
     ]
    }
   ],
   "execution_count": 1
  },
  {
   "metadata": {
    "ExecuteTime": {
     "end_time": "2025-09-14T11:56:22.825806Z",
     "start_time": "2025-09-14T11:56:11.801354Z"
    }
   },
   "cell_type": "code",
   "source": [
    "# Define the grid of hyperparameters to search\n",
    "param_grid = {\n",
    "    'n_estimators': [100, 200, 300],         # Number of trees in the forest\n",
    "    'max_depth': [None, 10, 20],             # Maximum depth of the tree\n",
    "    'min_samples_split': [2, 5],             # Minimum number of samples required to split a node\n",
    "    'min_samples_leaf': [1, 2]               # Minimum number of samples required at a leaf node\n",
    "}\n",
    "\n",
    "# Initialize the base Random Forest model\n",
    "rf = RandomForestClassifier(random_state=42)\n",
    "\n",
    "# Initialize GridSearchCV\n",
    "# cv=5 means we'll use 5-fold cross-validation\n",
    "# n_jobs=-1 uses all available CPU cores to speed up the process\n",
    "# scoring='roc_auc' tells it to find the model with the best ROC AUC score\n",
    "grid_search = GridSearchCV(estimator=rf, param_grid=param_grid, cv=5, n_jobs=-1, verbose=2, scoring='roc_auc')\n",
    "\n",
    "# Fit the grid search to the data\n",
    "print(\"Starting GridSearchCV... This may take a few minutes.\")\n",
    "grid_search.fit(X_train, y_train)\n",
    "\n",
    "# Print the best parameters found\n",
    "print(\"\\nBest parameters found by GridSearchCV:\")\n",
    "print(grid_search.best_params_)\n",
    "\n",
    "# Store the best estimator for the next step\n",
    "best_model = grid_search.best_estimator_"
   ],
   "id": "f4d2c17f0e1ab196",
   "outputs": [
    {
     "name": "stdout",
     "output_type": "stream",
     "text": [
      "Starting GridSearchCV... This may take a few minutes.\n",
      "Fitting 5 folds for each of 36 candidates, totalling 180 fits\n",
      "\n",
      "Best parameters found by GridSearchCV:\n",
      "{'max_depth': 10, 'min_samples_leaf': 1, 'min_samples_split': 5, 'n_estimators': 200}\n"
     ]
    }
   ],
   "execution_count": 3
  },
  {
   "metadata": {
    "ExecuteTime": {
     "end_time": "2025-09-14T11:57:04.765611Z",
     "start_time": "2025-09-14T11:57:04.583671Z"
    }
   },
   "cell_type": "code",
   "source": [
    "from matplotlib import pyplot as plt\n",
    "from sklearn.metrics import RocCurveDisplay\n",
    "\n",
    "# Evaluate the best model on the test data\n",
    "print(\"--- Final Model Evaluation on Test Data ---\")\n",
    "y_pred = best_model.predict(X_test)\n",
    "\n",
    "# Print classification report\n",
    "print(classification_report(y_test, y_pred))\n",
    "\n",
    "# Print ROC AUC Score\n",
    "final_roc_auc = roc_auc_score(y_test, best_model.predict_proba(X_test)[:, 1])\n",
    "print(f\"Final ROC AUC Score: {final_roc_auc:.4f}\")\n",
    "\n",
    "# Plot the ROC Curve\n",
    "print(\"\\n--- ROC Curve ---\")\n",
    "fig, ax = plt.subplots(figsize=(8, 6))\n",
    "RocCurveDisplay.from_estimator(best_model, X_test, y_test, ax=ax)\n",
    "ax.set_title(\"ROC Curve for Tuned Random Forest\")\n",
    "plt.show()"
   ],
   "id": "b284ddd497fc1bee",
   "outputs": [
    {
     "name": "stdout",
     "output_type": "stream",
     "text": [
      "--- Final Model Evaluation on Test Data ---\n",
      "              precision    recall  f1-score   support\n",
      "\n",
      "           0       0.83      0.79      0.81        82\n",
      "           1       0.84      0.87      0.86       102\n",
      "\n",
      "    accuracy                           0.84       184\n",
      "   macro avg       0.84      0.83      0.83       184\n",
      "weighted avg       0.84      0.84      0.84       184\n",
      "\n",
      "Final ROC AUC Score: 0.9258\n",
      "\n",
      "--- ROC Curve ---\n"
     ]
    },
    {
     "data": {
      "text/plain": [
       "<Figure size 800x600 with 1 Axes>"
      ],
      "image/png": "[encoded data removed]"
     },
     "metadata": {},
     "output_type": "display_data"
    }
   ],
   "execution_count": 4
  },
  {
   "metadata": {
    "ExecuteTime": {
     "end_time": "2025-09-14T11:58:06.684867Z",
     "start_time": "2025-09-14T11:58:06.617021Z"
    }
   },
   "cell_type": "code",
   "source": [
    "import joblib\n",
    "import os\n",
    "from sklearn.preprocessing import StandardScaler\n",
    "\n",
    "# --- Create a 'models' directory if it doesn't exist ---\n",
    "os.makedirs('models', exist_ok=True)\n",
    "\n",
    "\n",
    "# --- Save the Tuned Model ---\n",
    "# The 'best_model' variable holds the best model found by GridSearchCV\n",
    "joblib.dump(best_model, 'models/final_model.pkl')\n",
    "print(\"✅ Tuned model saved successfully as 'final_model.pkl'\")\n",
    "\n",
    "\n",
    "# --- Re-fit and Save the Scaler ---\n",
    "# We need to save the scaler that was fitted on the training data\n",
    "# We'll re-create it here to ensure it's the correct one\n",
    "cols_to_scale = ['age', 'trestbps', 'chol', 'thalch', 'oldpeak']\n",
    "scaler = StandardScaler()\n",
    "\n",
    "# Re-fit the scaler on the original training data (X_train)\n",
    "# This ensures it's perfectly matched with the trained model\n",
    "scaler.fit(X_train[cols_to_scale])\n",
    "\n",
    "joblib.dump(scaler, 'models/scaler.pkl')\n",
    "print(\"✅ Scaler saved successfully as 'scaler.pkl'\")"
   ],
   "id": "a43c55ecc4d06542",
   "outputs": [
    {
     "name": "stdout",
     "output_type": "stream",
     "text": [
      "✅ Tuned model saved successfully as 'final_model.pkl'\n",
      "✅ Scaler saved successfully as 'scaler.pkl'\n"
     ]
    }
   ],
   "execution_count": 5
  },
  {
   "metadata": {},
   "cell_type": "code",
   "outputs": [],
   "execution_count": null,
   "source": "",
   "id": "f946c7c62acad3fb"
  }
 ],
 "metadata": {
  "kernelspec": {
   "display_name": "Python 3",
   "language": "python",
   "name": "python3"
  },
  "language_info": {
   "codemirror_mode": {
    "name": "ipython",
    "version": 2
   },
   "file_extension": ".py",
   "mimetype": "text/x-python",
   "name": "python",
   "nbconvert_exporter": "python",
   "pygments_lexer": "ipython2",
   "version": "2.7.6"
  }
 },
 "nbformat": 4,
 "nbformat_minor": 5
}
