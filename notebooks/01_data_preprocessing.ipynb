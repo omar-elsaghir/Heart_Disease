{
 "cells": [
  {
   "cell_type": "code",
   "id": "initial_id",
   "metadata": {
    "collapsed": true,
    "ExecuteTime": {
     "end_time": "2025-09-14T11:35:05.503679Z",
     "start_time": "2025-09-14T11:35:05.498687Z"
    }
   },
   "source": [
    "import pandas as pd\n",
    "import numpy as np\n",
    "import matplotlib.pyplot as plt\n",
    "import seaborn as sns\n",
    "\n",
    "# Set plot style\n",
    "sns.set(style=\"whitegrid\")"
   ],
   "outputs": [],
   "execution_count": 23
  },
  {
   "metadata": {
    "ExecuteTime": {
     "end_time": "2025-09-14T11:35:05.604769Z",
     "start_time": "2025-09-14T11:35:05.591440Z"
    }
   },
   "cell_type": "code",
   "source": [
    "try:\n",
    "    # Let pandas automatically detect the header row\n",
    "    df = pd.read_csv('../data/heart_disease_uci.csv')\n",
    "    print(\"Dataset loaded successfully using the standard method!\")\n",
    "\n",
    "    # Drop any unnamed columns that might have been created\n",
    "    df = df.loc[:, ~df.columns.str.contains('^Unnamed')]\n",
    "\n",
    "    print(\"\\nInitial Data Info:\")\n",
    "    df.info()\n",
    "\n",
    "except FileNotFoundError:\n",
    "    print(\"Error: 'heart_disease_uci.csv' not found in the 'data' folder.\")\n",
    "    df = pd.DataFrame()\n",
    "\n",
    "if not df.empty:\n",
    "    df.head()"
   ],
   "id": "e98cf099fe4e0c9f",
   "outputs": [
    {
     "name": "stdout",
     "output_type": "stream",
     "text": [
      "Dataset loaded successfully using the standard method!\n",
      "\n",
      "Initial Data Info:\n",
      "<class 'pandas.core.frame.DataFrame'>\n",
      "RangeIndex: 920 entries, 0 to 919\n",
      "Data columns (total 16 columns):\n",
      " #   Column    Non-Null Count  Dtype  \n",
      "---  ------    --------------  -----  \n",
      " 0   id        920 non-null    int64  \n",
      " 1   age       920 non-null    int64  \n",
      " 2   sex       920 non-null    object \n",
      " 3   dataset   920 non-null    object \n",
      " 4   cp        920 non-null    object \n",
      " 5   trestbps  861 non-null    float64\n",
      " 6   chol      890 non-null    float64\n",
      " 7   fbs       830 non-null    object \n",
      " 8   restecg   918 non-null    object \n",
      " 9   thalch    865 non-null    float64\n",
      " 10  exang     865 non-null    object \n",
      " 11  oldpeak   858 non-null    float64\n",
      " 12  slope     611 non-null    object \n",
      " 13  ca        309 non-null    float64\n",
      " 14  thal      434 non-null    object \n",
      " 15  num       920 non-null    int64  \n",
      "dtypes: float64(5), int64(3), object(8)\n",
      "memory usage: 115.1+ KB\n"
     ]
    }
   ],
   "execution_count": 24
  },
  {
   "metadata": {
    "ExecuteTime": {
     "end_time": "2025-09-14T11:35:05.656995Z",
     "start_time": "2025-09-14T11:35:05.650775Z"
    }
   },
   "cell_type": "code",
   "source": [
    "if not df.empty:\n",
    "    # Standardize the target column name to 'target'\n",
    "    if 'num' in df.columns:\n",
    "        df.rename(columns={'num': 'target'}, inplace=True)\n",
    "\n",
    "    # Ensure the target is binary (0 for no disease, 1 for disease)\n",
    "    df['target'] = (df['target'] > 0).astype(int)\n",
    "\n",
    "    print(\"Target variable processed. Distribution:\")\n",
    "    print(df['target'].value_counts())"
   ],
   "id": "8bd2ed68c5c180cd",
   "outputs": [
    {
     "name": "stdout",
     "output_type": "stream",
     "text": [
      "Target variable processed. Distribution:\n",
      "target\n",
      "1    509\n",
      "0    411\n",
      "Name: count, dtype: int64\n"
     ]
    }
   ],
   "execution_count": 25
  },
  {
   "metadata": {
    "ExecuteTime": {
     "end_time": "2025-09-14T11:35:05.716060Z",
     "start_time": "2025-09-14T11:35:05.692602Z"
    }
   },
   "cell_type": "code",
   "source": [
    "# Select columns with 'object' dtype, which indicates text\n",
    "categorical_text_cols = df.select_dtypes(include=['object']).columns\n",
    "\n",
    "if not categorical_text_cols.empty:\n",
    "    print(f\"Identified text-based columns to encode: {list(categorical_text_cols)}\")\n",
    "    # One-hot encode these columns, creating new binary (0/1) columns\n",
    "    df = pd.get_dummies(df, columns=categorical_text_cols, drop_first=True)\n",
    "    print(\"Categorical columns successfully one-hot encoded.\")\n",
    "else:\n",
    "    print(\"No text-based categorical columns found to encode.\")\n",
    "\n",
    "print(f\"\\nDataFrame shape after encoding: {df.shape}\")\n",
    "df.head()"
   ],
   "id": "a2a60406ea5aedb1",
   "outputs": [
    {
     "name": "stdout",
     "output_type": "stream",
     "text": [
      "Identified text-based columns to encode: ['sex', 'dataset', 'cp', 'fbs', 'restecg', 'exang', 'slope', 'thal']\n",
      "Categorical columns successfully one-hot encoded.\n",
      "\n",
      "DataFrame shape after encoding: (920, 23)\n"
     ]
    },
    {
     "data": {
      "text/plain": [
       "   id  age  trestbps   chol  thalch  oldpeak   ca  target  sex_Male  \\\n",
       "0   1   63     145.0  233.0   150.0      2.3  0.0       0      True   \n",
       "1   2   67     160.0  286.0   108.0      1.5  3.0       1      True   \n",
       "2   3   67     120.0  229.0   129.0      2.6  2.0       1      True   \n",
       "3   4   37     130.0  250.0   187.0      3.5  0.0       0      True   \n",
       "4   5   41     130.0  204.0   172.0      1.4  0.0       0     False   \n",
       "\n",
       "   dataset_Hungary  ...  cp_non-anginal  cp_typical angina  fbs_True  \\\n",
       "0            False  ...           False               True      True   \n",
       "1            False  ...           False              False     False   \n",
       "2            False  ...           False              False     False   \n",
       "3            False  ...            True              False     False   \n",
       "4            False  ...           False              False     False   \n",
       "\n",
       "   restecg_normal  restecg_st-t abnormality  exang_True  slope_flat  \\\n",
       "0           False                     False       False       False   \n",
       "1           False                     False        True        True   \n",
       "2           False                     False        True        True   \n",
       "3            True                     False       False       False   \n",
       "4           False                     False       False       False   \n",
       "\n",
       "   slope_upsloping  thal_normal  thal_reversable defect  \n",
       "0            False        False                   False  \n",
       "1            False         True                   False  \n",
       "2            False        False                    True  \n",
       "3            False         True                   False  \n",
       "4             True         True                   False  \n",
       "\n",
       "[5 rows x 23 columns]"
      ],
      "text/html": [
       "<div>\n",
       "<style scoped>\n",
       "    .dataframe tbody tr th:only-of-type {\n",
       "        vertical-align: middle;\n",
       "    }\n",
       "\n",
       "    .dataframe tbody tr th {\n",
       "        vertical-align: top;\n",
       "    }\n",
       "\n",
       "    .dataframe thead th {\n",
       "        text-align: right;\n",
       "    }\n",
       "</style>\n",
       "<table border=\"1\" class=\"dataframe\">\n",
       "  <thead>\n",
       "    <tr style=\"text-align: right;\">\n",
       "      <th></th>\n",
       "      <th>id</th>\n",
       "      <th>age</th>\n",
       "      <th>trestbps</th>\n",
       "      <th>chol</th>\n",
       "      <th>thalch</th>\n",
       "      <th>oldpeak</th>\n",
       "      <th>ca</th>\n",
       "      <th>target</th>\n",
       "      <th>sex_Male</th>\n",
       "      <th>dataset_Hungary</th>\n",
       "      <th>...</th>\n",
       "      <th>cp_non-anginal</th>\n",
       "      <th>cp_typical angina</th>\n",
       "      <th>fbs_True</th>\n",
       "      <th>restecg_normal</th>\n",
       "      <th>restecg_st-t abnormality</th>\n",
       "      <th>exang_True</th>\n",
       "      <th>slope_flat</th>\n",
       "      <th>slope_upsloping</th>\n",
       "      <th>thal_normal</th>\n",
       "      <th>thal_reversable defect</th>\n",
       "    </tr>\n",
       "  </thead>\n",
       "  <tbody>\n",
       "    <tr>\n",
       "      <th>0</th>\n",
       "      <td>1</td>\n",
       "      <td>63</td>\n",
       "      <td>145.0</td>\n",
       "      <td>233.0</td>\n",
       "      <td>150.0</td>\n",
       "      <td>2.3</td>\n",
       "      <td>0.0</td>\n",
       "      <td>0</td>\n",
       "      <td>True</td>\n",
       "      <td>False</td>\n",
       "      <td>...</td>\n",
       "      <td>False</td>\n",
       "      <td>True</td>\n",
       "      <td>True</td>\n",
       "      <td>False</td>\n",
       "      <td>False</td>\n",
       "      <td>False</td>\n",
       "      <td>False</td>\n",
       "      <td>False</td>\n",
       "      <td>False</td>\n",
       "      <td>False</td>\n",
       "    </tr>\n",
       "    <tr>\n",
       "      <th>1</th>\n",
       "      <td>2</td>\n",
       "      <td>67</td>\n",
       "      <td>160.0</td>\n",
       "      <td>286.0</td>\n",
       "      <td>108.0</td>\n",
       "      <td>1.5</td>\n",
       "      <td>3.0</td>\n",
       "      <td>1</td>\n",
       "      <td>True</td>\n",
       "      <td>False</td>\n",
       "      <td>...</td>\n",
       "      <td>False</td>\n",
       "      <td>False</td>\n",
       "      <td>False</td>\n",
       "      <td>False</td>\n",
       "      <td>False</td>\n",
       "      <td>True</td>\n",
       "      <td>True</td>\n",
       "      <td>False</td>\n",
       "      <td>True</td>\n",
       "      <td>False</td>\n",
       "    </tr>\n",
       "    <tr>\n",
       "      <th>2</th>\n",
       "      <td>3</td>\n",
       "      <td>67</td>\n",
       "      <td>120.0</td>\n",
       "      <td>229.0</td>\n",
       "      <td>129.0</td>\n",
       "      <td>2.6</td>\n",
       "      <td>2.0</td>\n",
       "      <td>1</td>\n",
       "      <td>True</td>\n",
       "      <td>False</td>\n",
       "      <td>...</td>\n",
       "      <td>False</td>\n",
       "      <td>False</td>\n",
       "      <td>False</td>\n",
       "      <td>False</td>\n",
       "      <td>False</td>\n",
       "      <td>True</td>\n",
       "      <td>True</td>\n",
       "      <td>False</td>\n",
       "      <td>False</td>\n",
       "      <td>True</td>\n",
       "    </tr>\n",
       "    <tr>\n",
       "      <th>3</th>\n",
       "      <td>4</td>\n",
       "      <td>37</td>\n",
       "      <td>130.0</td>\n",
       "      <td>250.0</td>\n",
       "      <td>187.0</td>\n",
       "      <td>3.5</td>\n",
       "      <td>0.0</td>\n",
       "      <td>0</td>\n",
       "      <td>True</td>\n",
       "      <td>False</td>\n",
       "      <td>...</td>\n",
       "      <td>True</td>\n",
       "      <td>False</td>\n",
       "      <td>False</td>\n",
       "      <td>True</td>\n",
       "      <td>False</td>\n",
       "      <td>False</td>\n",
       "      <td>False</td>\n",
       "      <td>False</td>\n",
       "      <td>True</td>\n",
       "      <td>False</td>\n",
       "    </tr>\n",
       "    <tr>\n",
       "      <th>4</th>\n",
       "      <td>5</td>\n",
       "      <td>41</td>\n",
       "      <td>130.0</td>\n",
       "      <td>204.0</td>\n",
       "      <td>172.0</td>\n",
       "      <td>1.4</td>\n",
       "      <td>0.0</td>\n",
       "      <td>0</td>\n",
       "      <td>False</td>\n",
       "      <td>False</td>\n",
       "      <td>...</td>\n",
       "      <td>False</td>\n",
       "      <td>False</td>\n",
       "      <td>False</td>\n",
       "      <td>False</td>\n",
       "      <td>False</td>\n",
       "      <td>False</td>\n",
       "      <td>False</td>\n",
       "      <td>True</td>\n",
       "      <td>True</td>\n",
       "      <td>False</td>\n",
       "    </tr>\n",
       "  </tbody>\n",
       "</table>\n",
       "<p>5 rows × 23 columns</p>\n",
       "</div>"
      ]
     },
     "execution_count": 26,
     "metadata": {},
     "output_type": "execute_result"
    }
   ],
   "execution_count": 26
  },
  {
   "metadata": {
    "ExecuteTime": {
     "end_time": "2025-09-14T11:35:05.788218Z",
     "start_time": "2025-09-14T11:35:05.776218Z"
    }
   },
   "cell_type": "code",
   "source": [
    "# Cell 5 (Corrected)\n",
    "\n",
    "# Impute any remaining missing values with the median of each column\n",
    "for col in df.columns:\n",
    "    if df[col].isnull().any():\n",
    "        # This is the updated, clearer syntax\n",
    "        df[col] = df[col].fillna(df[col].median())\n",
    "\n",
    "print(f\"\\nTotal missing values after final imputation: {df.isnull().sum().sum()}\")"
   ],
   "id": "f7afb9ac559461a4",
   "outputs": [
    {
     "name": "stdout",
     "output_type": "stream",
     "text": [
      "\n",
      "Total missing values after final imputation: 0\n"
     ]
    }
   ],
   "execution_count": 27
  },
  {
   "metadata": {
    "ExecuteTime": {
     "end_time": "2025-09-14T11:36:14.584957Z",
     "start_time": "2025-09-14T11:36:14.260190Z"
    }
   },
   "cell_type": "code",
   "source": [
    "from sklearn.model_selection import train_test_split\n",
    "from sklearn.preprocessing import StandardScaler\n",
    "\n",
    "# Separate features (X) and target (y)\n",
    "X = df.drop('target', axis=1)\n",
    "y = df['target']\n",
    "\n",
    "# Split data into 80% training and 20% testing sets\n",
    "X_train, X_test, y_train, y_test = train_test_split(X, y, test_size=0.2, random_state=42, stratify=y)\n",
    "\n",
    "# Identify original numerical columns that need scaling\n",
    "cols_to_scale = ['age', 'trestbps', 'chol', 'thalch', 'oldpeak']\n",
    "\n",
    "# Ensure all columns to be scaled actually exist in the dataframe\n",
    "cols_to_scale = [col for col in cols_to_scale if col in X_train.columns]\n",
    "\n",
    "# Initialize the scaler\n",
    "scaler = StandardScaler()\n",
    "\n",
    "# Fit the scaler ONLY on the training data and transform it\n",
    "X_train[cols_to_scale] = scaler.fit_transform(X_train[cols_to_scale])\n",
    "\n",
    "# Use the SAME fitted scaler to transform the test data\n",
    "X_test[cols_to_scale] = scaler.transform(X_test[cols_to_scale])\n",
    "\n",
    "print(\"Numerical features scaled successfully.\")\n",
    "print(\"Training set shape:\", X_train.shape)"
   ],
   "id": "967ec7c6becb02ea",
   "outputs": [
    {
     "name": "stdout",
     "output_type": "stream",
     "text": [
      "Numerical features scaled successfully.\n",
      "Training set shape: (736, 22)\n"
     ]
    }
   ],
   "execution_count": 28
  },
  {
   "metadata": {
    "ExecuteTime": {
     "end_time": "2025-09-14T11:36:23.617281Z",
     "start_time": "2025-09-14T11:36:23.591474Z"
    }
   },
   "cell_type": "code",
   "source": [
    "import os\n",
    "\n",
    "# Create a directory for our processed data\n",
    "output_dir = '../data/processed'\n",
    "os.makedirs(output_dir, exist_ok=True)\n",
    "\n",
    "# Save the fully processed dataframes\n",
    "X_train.to_csv(os.path.join(output_dir, 'X_train.csv'), index=False)\n",
    "X_test.to_csv(os.path.join(output_dir, 'X_test.csv'), index=False)\n",
    "y_train.to_csv(os.path.join(output_dir, 'y_train.csv'), index=False)\n",
    "y_test.to_csv(os.path.join(output_dir, 'y_test.csv'), index=False)\n",
    "\n",
    "print(f\"\\n✅ Fully cleaned and processed data saved to the '{output_dir}' folder.\")"
   ],
   "id": "a885c190097befc0",
   "outputs": [
    {
     "name": "stdout",
     "output_type": "stream",
     "text": [
      "\n",
      "✅ Fully cleaned and processed data saved to the '../data/processed' folder.\n"
     ]
    }
   ],
   "execution_count": 29
  },
  {
   "metadata": {},
   "cell_type": "code",
   "outputs": [],
   "execution_count": null,
   "source": "",
   "id": "d3d837a175cfd4e4"
  }
 ],
 "metadata": {
  "kernelspec": {
   "display_name": "Python 3",
   "language": "python",
   "name": "python3"
  },
  "language_info": {
   "codemirror_mode": {
    "name": "ipython",
    "version": 2
   },
   "file_extension": ".py",
   "mimetype": "text/x-python",
   "name": "python",
   "nbconvert_exporter": "python",
   "pygments_lexer": "ipython2",
   "version": "2.7.6"
  }
 },
 "nbformat": 4,
 "nbformat_minor": 5
}
