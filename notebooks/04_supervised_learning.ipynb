{
 "cells": [
  {
   "cell_type": "code",
   "id": "initial_id",
   "metadata": {
    "collapsed": true,
    "ExecuteTime": {
     "end_time": "2025-09-14T11:46:51.285703Z",
     "start_time": "2025-09-14T11:46:51.045005Z"
    }
   },
   "source": [
    "import pandas as pd\n",
    "import numpy as np\n",
    "import matplotlib.pyplot as plt\n",
    "from sklearn.linear_model import LogisticRegression\n",
    "from sklearn.tree import DecisionTreeClassifier\n",
    "from sklearn.ensemble import RandomForestClassifier\n",
    "from sklearn.svm import SVC\n",
    "from sklearn.metrics import (\n",
    "    accuracy_score,\n",
    "    precision_score,\n",
    "    recall_score,\n",
    "    f1_score,\n",
    "    roc_auc_score,\n",
    "    classification_report,\n",
    "    RocCurveDisplay\n",
    ")\n",
    "from sklearn.decomposition import PCA # To recreate our PCA data\n",
    "\n",
    "print(\"Libraries imported successfully!\")"
   ],
   "outputs": [
    {
     "name": "stdout",
     "output_type": "stream",
     "text": [
      "Libraries imported successfully!\n"
     ]
    }
   ],
   "execution_count": 1
  },
  {
   "metadata": {
    "ExecuteTime": {
     "end_time": "2025-09-14T11:47:14.309678Z",
     "start_time": "2025-09-14T11:47:14.283150Z"
    }
   },
   "cell_type": "code",
   "source": [
    "# Load the base processed data\n",
    "try:\n",
    "    X_train_full = pd.read_csv('../data/processed/X_train.csv')\n",
    "    X_test_full = pd.read_csv('../data/processed/X_test.csv')\n",
    "    y_train = pd.read_csv('../data/processed/y_train.csv').values.ravel()\n",
    "    y_test = pd.read_csv('../data/processed/y_test.csv').values.ravel()\n",
    "    print(\"Base data loaded successfully.\")\n",
    "except FileNotFoundError:\n",
    "    print(\"Error: Processed data not found. Please run the preprocessing notebook first.\")\n",
    "\n",
    "# --- 1. Prepare Full Feature Set ---\n",
    "# Drop the 'id' column if it exists, to avoid data leakage\n",
    "if 'id' in X_train_full.columns:\n",
    "    X_train_full = X_train_full.drop('id', axis=1)\n",
    "    X_test_full = X_test_full.drop('id', axis=1)\n",
    "\n",
    "# --- 2. Prepare PCA Feature Set ---\n",
    "pca = PCA(n_components=2)\n",
    "X_train_pca = pca.fit_transform(X_train_full)\n",
    "X_test_pca = pca.transform(X_test_full)\n",
    "\n",
    "# --- 3. Prepare RFE Feature Set ---\n",
    "# Use the list of features we selected in the previous notebook\n",
    "rfe_features = [\n",
    "    'ca', 'sex_Male', 'dataset_Switzerland', 'dataset_VA Long Beach',\n",
    "    'cp_atypical angina', 'cp_non-anginal', 'cp_typical angina',\n",
    "    'exang_True', 'slope_flat', 'thal_normal'\n",
    "]\n",
    "X_train_rfe = X_train_full[rfe_features]\n",
    "X_test_rfe = X_test_full[rfe_features]\n",
    "\n",
    "print(\"All three feature sets (Full, PCA, RFE) are ready for modeling.\")\n",
    "print(f\"Full features shape: {X_train_full.shape}\")\n",
    "print(f\"PCA features shape: {X_train_pca.shape}\")\n",
    "print(f\"RFE features shape: {X_train_rfe.shape}\")"
   ],
   "id": "54aa7b7909353893",
   "outputs": [
    {
     "name": "stdout",
     "output_type": "stream",
     "text": [
      "Base data loaded successfully.\n",
      "All three feature sets (Full, PCA, RFE) are ready for modeling.\n",
      "Full features shape: (736, 21)\n",
      "PCA features shape: (736, 2)\n",
      "RFE features shape: (736, 10)\n"
     ]
    }
   ],
   "execution_count": 2
  },
  {
   "metadata": {
    "ExecuteTime": {
     "end_time": "2025-09-14T11:47:47.345765Z",
     "start_time": "2025-09-14T11:47:47.337217Z"
    }
   },
   "cell_type": "code",
   "source": [
    "# Create a helper function for model evaluation\n",
    "def evaluate_model(model, X_train, y_train, X_test, y_test, model_name=\"Model\"):\n",
    "    \"\"\"\n",
    "    Trains a model, makes predictions, and prints a classification report.\n",
    "    \"\"\"\n",
    "    print(f\"--- {model_name} ---\")\n",
    "\n",
    "    # Train the model\n",
    "    model.fit(X_train, y_train)\n",
    "\n",
    "    # Make predictions on the test set\n",
    "    y_pred = model.predict(X_test)\n",
    "\n",
    "    # Print evaluation metrics\n",
    "    print(classification_report(y_test, y_pred))\n",
    "\n",
    "    # Print ROC AUC Score\n",
    "    # Note: For SVC with probability=False, this will error. We'll handle it.\n",
    "    try:\n",
    "        roc_auc = roc_auc_score(y_test, model.predict_proba(X_test)[:, 1])\n",
    "        print(f\"ROC AUC Score: {roc_auc:.4f}\")\n",
    "    except AttributeError:\n",
    "        # Some models like SVC don't have predict_proba unless enabled\n",
    "        # For this case, we'll calculate it from the decision function\n",
    "        roc_auc = roc_auc_score(y_test, model.decision_function(X_test))\n",
    "        print(f\"ROC AUC Score (from decision function): {roc_auc:.4f}\")\n",
    "\n",
    "    print(\"-\" * 28 + \"\\n\")\n",
    "\n",
    "\n",
    "print(\"Evaluation function 'evaluate_model' is defined and ready.\")"
   ],
   "id": "23d908f942f236d4",
   "outputs": [
    {
     "name": "stdout",
     "output_type": "stream",
     "text": [
      "Evaluation function 'evaluate_model' is defined and ready.\n"
     ]
    }
   ],
   "execution_count": 3
  },
  {
   "metadata": {
    "ExecuteTime": {
     "end_time": "2025-09-14T11:48:19.858854Z",
     "start_time": "2025-09-14T11:48:19.803680Z"
    }
   },
   "cell_type": "code",
   "source": [
    "# Initialize the Logistic Regression model\n",
    "# We set max_iter to 1000 to ensure the model converges\n",
    "log_reg = LogisticRegression(max_iter=1000, random_state=42)\n",
    "\n",
    "# Evaluate the model on all three datasets\n",
    "evaluate_model(log_reg, X_train_full, y_train, X_test_full, y_test, model_name=\"Logistic Regression (Full Features)\")\n",
    "evaluate_model(log_reg, X_train_pca, y_train, X_test_pca, y_test, model_name=\"Logistic Regression (PCA Features)\")\n",
    "evaluate_model(log_reg, X_train_rfe, y_train, X_test_rfe, y_test, model_name=\"Logistic Regression (RFE Features)\")"
   ],
   "id": "bc59ec19e1697fbd",
   "outputs": [
    {
     "name": "stdout",
     "output_type": "stream",
     "text": [
      "--- Logistic Regression (Full Features) ---\n",
      "              precision    recall  f1-score   support\n",
      "\n",
      "           0       0.84      0.74      0.79        82\n",
      "           1       0.81      0.88      0.85       102\n",
      "\n",
      "    accuracy                           0.82       184\n",
      "   macro avg       0.82      0.81      0.82       184\n",
      "weighted avg       0.82      0.82      0.82       184\n",
      "\n",
      "ROC AUC Score: 0.9211\n",
      "----------------------------\n",
      "\n",
      "--- Logistic Regression (PCA Features) ---\n",
      "              precision    recall  f1-score   support\n",
      "\n",
      "           0       0.72      0.72      0.72        82\n",
      "           1       0.77      0.77      0.77       102\n",
      "\n",
      "    accuracy                           0.75       184\n",
      "   macro avg       0.75      0.75      0.75       184\n",
      "weighted avg       0.75      0.75      0.75       184\n",
      "\n",
      "ROC AUC Score: 0.8091\n",
      "----------------------------\n",
      "\n",
      "--- Logistic Regression (RFE Features) ---\n",
      "              precision    recall  f1-score   support\n",
      "\n",
      "           0       0.83      0.79      0.81        82\n",
      "           1       0.84      0.87      0.86       102\n",
      "\n",
      "    accuracy                           0.84       184\n",
      "   macro avg       0.84      0.83      0.83       184\n",
      "weighted avg       0.84      0.84      0.84       184\n",
      "\n",
      "ROC AUC Score: 0.9190\n",
      "----------------------------\n",
      "\n"
     ]
    }
   ],
   "execution_count": 4
  },
  {
   "metadata": {
    "ExecuteTime": {
     "end_time": "2025-09-14T11:48:49.086099Z",
     "start_time": "2025-09-14T11:48:49.041519Z"
    }
   },
   "cell_type": "code",
   "source": [
    "# Initialize the Decision Tree classifier\n",
    "# We set a random_state for reproducibility\n",
    "tree_clf = DecisionTreeClassifier(random_state=42)\n",
    "\n",
    "# Evaluate the model on all three datasets\n",
    "evaluate_model(tree_clf, X_train_full, y_train, X_test_full, y_test, model_name=\"Decision Tree (Full Features)\")\n",
    "evaluate_model(tree_clf, X_train_pca, y_train, X_test_pca, y_test, model_name=\"Decision Tree (PCA Features)\")\n",
    "evaluate_model(tree_clf, X_train_rfe, y_train, X_test_rfe, y_test, model_name=\"Decision Tree (RFE Features)\")"
   ],
   "id": "39d4acc48ddd60ba",
   "outputs": [
    {
     "name": "stdout",
     "output_type": "stream",
     "text": [
      "--- Decision Tree (Full Features) ---\n",
      "              precision    recall  f1-score   support\n",
      "\n",
      "           0       0.77      0.67      0.72        82\n",
      "           1       0.76      0.84      0.80       102\n",
      "\n",
      "    accuracy                           0.77       184\n",
      "   macro avg       0.77      0.76      0.76       184\n",
      "weighted avg       0.77      0.77      0.76       184\n",
      "\n",
      "ROC AUC Score: 0.7569\n",
      "----------------------------\n",
      "\n",
      "--- Decision Tree (PCA Features) ---\n",
      "              precision    recall  f1-score   support\n",
      "\n",
      "           0       0.65      0.65      0.65        82\n",
      "           1       0.72      0.73      0.72       102\n",
      "\n",
      "    accuracy                           0.69       184\n",
      "   macro avg       0.69      0.69      0.69       184\n",
      "weighted avg       0.69      0.69      0.69       184\n",
      "\n",
      "ROC AUC Score: 0.6859\n",
      "----------------------------\n",
      "\n",
      "--- Decision Tree (RFE Features) ---\n",
      "              precision    recall  f1-score   support\n",
      "\n",
      "           0       0.83      0.77      0.80        82\n",
      "           1       0.82      0.87      0.85       102\n",
      "\n",
      "    accuracy                           0.83       184\n",
      "   macro avg       0.83      0.82      0.82       184\n",
      "weighted avg       0.83      0.83      0.83       184\n",
      "\n",
      "ROC AUC Score: 0.8470\n",
      "----------------------------\n",
      "\n"
     ]
    }
   ],
   "execution_count": 5
  },
  {
   "metadata": {
    "ExecuteTime": {
     "end_time": "2025-09-14T11:49:17.112739Z",
     "start_time": "2025-09-14T11:49:16.596482Z"
    }
   },
   "cell_type": "code",
   "source": [
    "# Initialize the Random Forest classifier\n",
    "# n_estimators=100 means it will use 100 decision trees\n",
    "rf_clf = RandomForestClassifier(n_estimators=100, random_state=42)\n",
    "\n",
    "# Evaluate the model on all three datasets\n",
    "evaluate_model(rf_clf, X_train_full, y_train, X_test_full, y_test, model_name=\"Random Forest (Full Features)\")\n",
    "evaluate_model(rf_clf, X_train_pca, y_train, X_test_pca, y_test, model_name=\"Random Forest (PCA Features)\")\n",
    "evaluate_model(rf_clf, X_train_rfe, y_train, X_test_rfe, y_test, model_name=\"Random Forest (RFE Features)\")"
   ],
   "id": "4230d6e286cc1394",
   "outputs": [
    {
     "name": "stdout",
     "output_type": "stream",
     "text": [
      "--- Random Forest (Full Features) ---\n",
      "              precision    recall  f1-score   support\n",
      "\n",
      "           0       0.85      0.78      0.82        82\n",
      "           1       0.83      0.89      0.86       102\n",
      "\n",
      "    accuracy                           0.84       184\n",
      "   macro avg       0.84      0.84      0.84       184\n",
      "weighted avg       0.84      0.84      0.84       184\n",
      "\n",
      "ROC AUC Score: 0.9258\n",
      "----------------------------\n",
      "\n",
      "--- Random Forest (PCA Features) ---\n",
      "              precision    recall  f1-score   support\n",
      "\n",
      "           0       0.69      0.60      0.64        82\n",
      "           1       0.71      0.78      0.74       102\n",
      "\n",
      "    accuracy                           0.70       184\n",
      "   macro avg       0.70      0.69      0.69       184\n",
      "weighted avg       0.70      0.70      0.70       184\n",
      "\n",
      "ROC AUC Score: 0.7768\n",
      "----------------------------\n",
      "\n",
      "--- Random Forest (RFE Features) ---\n",
      "              precision    recall  f1-score   support\n",
      "\n",
      "           0       0.84      0.77      0.80        82\n",
      "           1       0.83      0.88      0.85       102\n",
      "\n",
      "    accuracy                           0.83       184\n",
      "   macro avg       0.83      0.83      0.83       184\n",
      "weighted avg       0.83      0.83      0.83       184\n",
      "\n",
      "ROC AUC Score: 0.9222\n",
      "----------------------------\n",
      "\n"
     ]
    }
   ],
   "execution_count": 6
  },
  {
   "metadata": {
    "ExecuteTime": {
     "end_time": "2025-09-14T11:49:43.867166Z",
     "start_time": "2025-09-14T11:49:43.546199Z"
    }
   },
   "cell_type": "code",
   "source": [
    "# Initialize the Support Vector Machine (SVC) classifier\n",
    "# We set probability=True to calculate ROC AUC score\n",
    "svm_clf = SVC(probability=True, random_state=42)\n",
    "\n",
    "# Evaluate the model on all three datasets\n",
    "evaluate_model(svm_clf, X_train_full, y_train, X_test_full, y_test, model_name=\"Support Vector Machine (Full Features)\")\n",
    "evaluate_model(svm_clf, X_train_pca, y_train, X_test_pca, y_test, model_name=\"Support Vector Machine (PCA Features)\")\n",
    "evaluate_model(svm_clf, X_train_rfe, y_train, X_test_rfe, y_test, model_name=\"Support Vector Machine (RFE Features)\")"
   ],
   "id": "fc0e2816a28b32b7",
   "outputs": [
    {
     "name": "stdout",
     "output_type": "stream",
     "text": [
      "--- Support Vector Machine (Full Features) ---\n",
      "              precision    recall  f1-score   support\n",
      "\n",
      "           0       0.87      0.76      0.81        82\n",
      "           1       0.82      0.91      0.87       102\n",
      "\n",
      "    accuracy                           0.84       184\n",
      "   macro avg       0.85      0.83      0.84       184\n",
      "weighted avg       0.85      0.84      0.84       184\n",
      "\n",
      "ROC AUC Score: 0.9175\n",
      "----------------------------\n",
      "\n",
      "--- Support Vector Machine (PCA Features) ---\n",
      "              precision    recall  f1-score   support\n",
      "\n",
      "           0       0.76      0.73      0.75        82\n",
      "           1       0.79      0.81      0.80       102\n",
      "\n",
      "    accuracy                           0.78       184\n",
      "   macro avg       0.77      0.77      0.77       184\n",
      "weighted avg       0.78      0.78      0.78       184\n",
      "\n",
      "ROC AUC Score: 0.8130\n",
      "----------------------------\n",
      "\n",
      "--- Support Vector Machine (RFE Features) ---\n",
      "              precision    recall  f1-score   support\n",
      "\n",
      "           0       0.86      0.77      0.81        82\n",
      "           1       0.83      0.90      0.86       102\n",
      "\n",
      "    accuracy                           0.84       184\n",
      "   macro avg       0.85      0.84      0.84       184\n",
      "weighted avg       0.84      0.84      0.84       184\n",
      "\n",
      "ROC AUC Score: 0.9185\n",
      "----------------------------\n",
      "\n"
     ]
    }
   ],
   "execution_count": 7
  },
  {
   "metadata": {},
   "cell_type": "code",
   "outputs": [],
   "execution_count": null,
   "source": "",
   "id": "e9ece3899eba6ac1"
  }
 ],
 "metadata": {
  "kernelspec": {
   "display_name": "Python 3",
   "language": "python",
   "name": "python3"
  },
  "language_info": {
   "codemirror_mode": {
    "name": "ipython",
    "version": 2
   },
   "file_extension": ".py",
   "mimetype": "text/x-python",
   "name": "python",
   "nbconvert_exporter": "python",
   "pygments_lexer": "ipython2",
   "version": "2.7.6"
  }
 },
 "nbformat": 4,
 "nbformat_minor": 5
}
